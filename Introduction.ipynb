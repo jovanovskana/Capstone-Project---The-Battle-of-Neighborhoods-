{
 "cells": [
  {
   "cell_type": "markdown",
   "metadata": {},
   "source": [
    "My client wants to open a restaurant in California and is asking me to choose which two neighborhoods are the best solution and what is the difference between them."
   ]
  },
  {
   "cell_type": "markdown",
   "metadata": {},
   "source": [
    "http://www.geonames.org/postal-codes/US/CA/california.html \n",
    "I will use the data from this site. There is information of place, postal code along with the data location.    "
   ]
  },
  {
   "cell_type": "markdown",
   "metadata": {},
   "source": [
    "The page (http://www.geonames.org/postal-codes/US/CA/california.html) was scraped using the BeautifulSoup library to build a pandas dataframe listing the buroughs and neighborhoods in California. The dataframe was cleaned and processed appropriately.\n",
    "The Foursquare API was then used to query each of the neighborhood for the keywords {restaurants}. The resulting locations for each venue were tabulated and stored in a new dataframe and visualised using Folium.\n",
    "A better visualisation was performed by obtaining the cluster centers for each group. The cluster centers were plotted on a Folium map, with the circle marker weighted corresponding to the number of venues in the specific cluster."
   ]
  },
  {
   "cell_type": "code",
   "execution_count": null,
   "metadata": {},
   "outputs": [],
   "source": []
  }
 ],
 "metadata": {
  "kernelspec": {
   "display_name": "Python 3",
   "language": "python",
   "name": "python3"
  },
  "language_info": {
   "codemirror_mode": {
    "name": "ipython",
    "version": 3
   },
   "file_extension": ".py",
   "mimetype": "text/x-python",
   "name": "python",
   "nbconvert_exporter": "python",
   "pygments_lexer": "ipython3",
   "version": "3.6.6"
  }
 },
 "nbformat": 4,
 "nbformat_minor": 2
}
